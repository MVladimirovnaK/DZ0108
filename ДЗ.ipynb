{
  "nbformat": 4,
  "nbformat_minor": 0,
  "metadata": {
    "colab": {
      "provenance": [],
      "mount_file_id": "1-4L-6Gzg-DaEfiZCr1JDrTC_rTqN8Z0m",
      "authorship_tag": "ABX9TyNjr1eWPYTcMjbxTSCzdPFT",
      "include_colab_link": true
    },
    "kernelspec": {
      "name": "python3",
      "display_name": "Python 3"
    },
    "language_info": {
      "name": "python"
    }
  },
  "cells": [
    {
      "cell_type": "markdown",
      "metadata": {
        "id": "view-in-github",
        "colab_type": "text"
      },
      "source": [
        "<a href=\"https://colab.research.google.com/github/MVladimirovnaK/DZ0108/blob/main/%D0%94%D0%97.ipynb\" target=\"_parent\"><img src=\"https://colab.research.google.com/assets/colab-badge.svg\" alt=\"Open In Colab\"/></a>"
      ]
    },
    {
      "cell_type": "markdown",
      "source": [
        "**Задание 1.**\n",
        "\n",
        "Загрузите таблицу из файла advertising_1.csv и сохраните её в датафрейм\n",
        "adv1_df. Укажите в качестве индекса столбец Number. Выведите на экран\n",
        "первые десять строк."
      ],
      "metadata": {
        "id": "ON1cIReSRC82"
      }
    },
    {
      "cell_type": "code",
      "execution_count": null,
      "metadata": {
        "id": "RpOGrkmqQ-2W"
      },
      "outputs": [],
      "source": [
        "import pandas as pd"
      ]
    },
    {
      "cell_type": "code",
      "source": [
        "adv1_df = pd.read_csv('advertising_1.csv', index_col='Number')\n",
        "print(adv1_df.head(10))"
      ],
      "metadata": {
        "colab": {
          "base_uri": "https://localhost:8080/"
        },
        "id": "1ApJb3tfRwX_",
        "outputId": "6ee81fcc-63d0-4d7e-83af-75f1183d9ff3"
      },
      "execution_count": 6,
      "outputs": [
        {
          "output_type": "stream",
          "name": "stdout",
          "text": [
            "        Daily Time Spent on Site  Daily Internet Usage  \\\n",
            "Number                                                   \n",
            "5                          68.95                256.09   \n",
            "6                          80.23                193.77   \n",
            "8                          74.15                245.89   \n",
            "9                            NaN                225.58   \n",
            "10                         59.99                226.74   \n",
            "11                         88.91                208.36   \n",
            "12                           NaN                131.76   \n",
            "13                         74.53                   NaN   \n",
            "14                         69.88                183.82   \n",
            "15                         47.64                122.02   \n",
            "\n",
            "                                Ad Topic Line  Clicked on Ad  \n",
            "Number                                                        \n",
            "5          Cloned 5thgeneration orchestration              0  \n",
            "6          Monitored national standardization              0  \n",
            "8       Triple-buffered reciprocal time-frame              0  \n",
            "9               Robust logistical utilization              0  \n",
            "10            Sharable client-driven software              0  \n",
            "11                 Enhanced dedicated support              0  \n",
            "12                   Reactive local challenge              1  \n",
            "13             Configurable coherent function              0  \n",
            "14         Mandatory homogeneous architecture              0  \n",
            "15             Centralized neutral neural-net              1  \n"
          ]
        }
      ]
    },
    {
      "cell_type": "markdown",
      "source": [
        "**Задание 2.**\n",
        "\n",
        "Выведите размер датафрейма adv1_df и cреднее ежедневное время\n",
        "нахождения в интернете пользователя под номером 8.\n"
      ],
      "metadata": {
        "id": "q-qOO47LZ4-D"
      }
    },
    {
      "cell_type": "code",
      "source": [
        "print(adv1_df.size)"
      ],
      "metadata": {
        "colab": {
          "base_uri": "https://localhost:8080/"
        },
        "id": "k-Vax-QBZ-b2",
        "outputId": "98b06901-07f0-4a68-9301-33bd64c51160"
      },
      "execution_count": 7,
      "outputs": [
        {
          "output_type": "stream",
          "name": "stdout",
          "text": [
            "2000\n"
          ]
        }
      ]
    },
    {
      "cell_type": "code",
      "source": [
        "print(adv1_df.loc[ 8, 'Daily Internet Usage'])"
      ],
      "metadata": {
        "colab": {
          "base_uri": "https://localhost:8080/"
        },
        "id": "VMP2HURWaMFp",
        "outputId": "0658929f-f735-41d3-9437-1029584890a0"
      },
      "execution_count": 8,
      "outputs": [
        {
          "output_type": "stream",
          "name": "stdout",
          "text": [
            "245.89\n"
          ]
        }
      ]
    },
    {
      "cell_type": "markdown",
      "source": [
        "**Задание 3.**\n",
        "\n",
        "Загрузите таблицу из файла advertising_2.csv и сохраните её в датафрейм\n",
        "adv2_df. Укажите в качестве индекса стоблец Number. Выведите на экран\n",
        "строки для пользователей с номерами с 533-го по 536-й."
      ],
      "metadata": {
        "id": "e5PSNNDCab2L"
      }
    },
    {
      "cell_type": "code",
      "source": [
        "adv2_df = pd.read_csv('advertising_2.csv', index_col='Number')\n",
        "print(adv2_df.loc[533:536])"
      ],
      "metadata": {
        "colab": {
          "base_uri": "https://localhost:8080/"
        },
        "id": "iByvCun8ae58",
        "outputId": "d70357c9-93a0-4e04-ee33-a0ecab62d627"
      },
      "execution_count": 9,
      "outputs": [
        {
          "output_type": "stream",
          "name": "stdout",
          "text": [
            "        Daily Time Spent on Site  Daily Internet Usage  \\\n",
            "Number                                                   \n",
            "533                        46.61                   NaN   \n",
            "534                          NaN                162.03   \n",
            "535                        65.10                118.10   \n",
            "536                        53.44                   NaN   \n",
            "\n",
            "                                Ad Topic Line  Clicked on Ad  \n",
            "Number                                                        \n",
            "533             Ergonomic methodical encoding              1  \n",
            "534         Compatible dedicated productivity              0  \n",
            "535            Up-sized real-time methodology              1  \n",
            "536     Up-sized next generation architecture              1  \n"
          ]
        }
      ]
    }
  ]
}